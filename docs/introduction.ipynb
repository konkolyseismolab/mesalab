{
 "cells": [
  {
   "cell_type": "markdown",
   "id": "8a78a1cd-10b9-4dde-a3d2-b7be2f072034",
   "metadata": {},
   "source": [
    "# # Introduction to mesalab pipeline\n",
    "#\n",
    "# This notebook provides a quick overview of how to use mesalab pipeline to analyze your MESA stellar evolution simulations.\n",
    "#\n",
    "# The package is designed as a **configuration-driven pipeline**, meaning you primarily interact with it through a **YAML configuration file**, rather than writing Python code for each step.\n",
    "# This approach allows for easy automation and reproducibility of your analyses.\n"
   ]
  }
 ],
 "metadata": {
  "kernelspec": {
   "display_name": "Python 3 (ipykernel)",
   "language": "python",
   "name": "python3"
  },
  "language_info": {
   "codemirror_mode": {
    "name": "ipython",
    "version": 3
   },
   "file_extension": ".py",
   "mimetype": "text/x-python",
   "name": "python",
   "nbconvert_exporter": "python",
   "pygments_lexer": "ipython3",
   "version": "3.9.5"
  }
 },
 "nbformat": 4,
 "nbformat_minor": 5
}
